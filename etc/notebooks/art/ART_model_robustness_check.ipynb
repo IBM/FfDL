{
 "cells": [
  {
   "cell_type": "markdown",
   "metadata": {},
   "source": [
    "# Generate Adversarial Samples for Deep Learning Models with the Adversarial Robustness Toolbox (ART)\n",
    "\n",
    "This notebook shows how to use adversarial attack techniques from the [Adversarial Robustness Toolbox (ART)](https://developer.ibm.com/code/open/projects/adversarial-robustness-toolbox/) on Deep Learning models trained with *FfDL*. The *ART* library supports crafting and analyzing various attack and defense methods for deep learning models. \n",
    "\n",
    "In this notebook, you will learn how to incorporate one of the attack methods supported by *ART*, the *Fast Gradient Method* (*FGM*), into your training pipeline to generate adversarial samples for the purposes of evaluating the robustness of the trained model. The model is a Convolutional Neural Network (CNN) trained on the *[MNIST handwritten digit data](http://yann.lecun.com/exdb/mnist/)* using [Keras](https://keras.io/) with a [TensorFlow](https://www.tensorflow.org/) backend.\n",
    "\n",
    "The *ART* Github repository can be found here - https://github.com/IBM/adversarial-robustness-toolbox\n",
    "\n",
    "This notebook uses Python 3.\n",
    "\n",
    "\n",
    "## Contents\n",
    "\n",
    "1.\t[Set up the environment](#setup)\n",
    "2.\t[Create a Keras model](#model)\n",
    "3.  [Train the model](#train)\n",
    "4.\t[Generate adversarial samples for a robustness check](#art)\n",
    "5.\t[Summary and next steps](#summary)"
   ]
  },
  {
   "cell_type": "markdown",
   "metadata": {},
   "source": [
    "<a id=\"setup\"></a>\n",
    "## 1. Setup\n",
    "\n",
    "It is recommended that you run this notebook inside a Python 3 virtual environment. Make sure you have all required libraries installed.\n",
    "\n",
    "To store model and training data, this notebook requires access to a Cloud Object Storage (COS) instance. [BlueMix Cloud Object Storage](https://console.bluemix.net/catalog/services/cloud-object-storage) offers a free *lite plan*. Follow [these instructions](https://dataplatform.ibm.com/docs/content/analyze-data/ml_dlaas_object_store.html) to create your COS instance and generate [service credentials](https://console.bluemix.net/docs/services/cloud-object-storage/iam/service-credentials.html#service-credentials) with [HMAC keys](https://console.bluemix.net/docs/services/cloud-object-storage/hmac/credentials.html#using-hmac-credentials).\n"
   ]
  },
  {
   "cell_type": "markdown",
   "metadata": {},
   "source": [
    "**Enter your cluster and object storage information:**"
   ]
  },
  {
   "cell_type": "code",
   "execution_count": 1,
   "metadata": {},
   "outputs": [],
   "source": [
    "user_data = {\n",
    "    \"ffdl_cluster_name\"          : \"\",    # Name of your Kubernetes cluster with FfDL deployed on it\n",
    "    \"vm_type\"                    : \"\",    # Type of VM your Kubernetes cluster is deployed on ['none'|'minikube'|'ibmcloud']\n",
    "    \"cos_hmac_access_key_id\"     : \"\",    # Cloud Object Storage (AWS) Access Key ID\n",
    "    \"cos_hmac_secret_access_key\" : \"\",    # Cloud Object Storage (AWS) Secret Access Key\n",
    "    \"cos_service_endpoint\"       : \"\",    # Cloud Object Storage endpoint, i.e. 'https://s3-api.us-geo.objectstorage.softlayer.net'\n",
    "    \"cos_region_name\"            : \"\"     # Cloud Object Storage endpoint, i.e. 'us-east-1'\n",
    "}"
   ]
  },
  {
   "cell_type": "code",
   "execution_count": 2,
   "metadata": {},
   "outputs": [],
   "source": [
    "unset_vars = [key for (key, value) in user_data.items() if not value]\n",
    "\n",
    "for var in unset_vars:\n",
    "    print(\"Dictionary 'user_data' is missing '%s'\" % var)\n",
    "    \n",
    "assert not unset_vars, \"Enter 'user_data' to run this notebook!\""
   ]
  },
  {
   "cell_type": "markdown",
   "metadata": {},
   "source": [
    "### 1.1. Verify or Install Required Python Libraries"
   ]
  },
  {
   "cell_type": "code",
   "execution_count": 3,
   "metadata": {},
   "outputs": [
    {
     "name": "stderr",
     "output_type": "stream",
     "text": [
      "Using TensorFlow backend.\n"
     ]
    },
    {
     "name": "stdout",
     "output_type": "stream",
     "text": [
      "All required libraries are installed.\n",
      "keras>=2.1.6\r\n",
      "tensorflow>=1.8\r\n",
      "ipython>=5.0.0\r\n",
      "jupyter>=1.0.0\r\n",
      "requests>=2.12.0,<=2.18.4\r\n",
      "wget\r\n",
      "boto3\r\n",
      "git+git://github.com/IBM/adversarial-robustness-toolbox@master\r\n"
     ]
    }
   ],
   "source": [
    "import sys\n",
    "\n",
    "def is_venv():\n",
    "    return (hasattr(sys, 'real_prefix') or (hasattr(sys, 'base_prefix') and sys.base_prefix != sys.prefix))\n",
    "\n",
    "try:\n",
    "    import keras, tensorflow, requests, wget, boto3, art\n",
    "    print(\"All required libraries are installed.\")\n",
    "    !cat requirements.txt\n",
    "except ModuleNotFoundError:\n",
    "    if is_venv:\n",
    "        print(\"Installing required libraries into virtual environment.\")\n",
    "        !python -m pip install -r requirements.txt\n",
    "    else:\n",
    "        print(\"Please install the required libraries.\")\n",
    "        !cat requirements.txt"
   ]
  },
  {
   "cell_type": "markdown",
   "metadata": {},
   "source": [
    "### 1.2. Connect to Cloud Object Storage  (COS)"
   ]
  },
  {
   "cell_type": "markdown",
   "metadata": {},
   "source": [
    "Create a `boto3.resource` to interact with the COS instance. The `boto3` library allows Python developers to manage Cloud Object Storage (COS)."
   ]
  },
  {
   "cell_type": "code",
   "execution_count": 4,
   "metadata": {},
   "outputs": [],
   "source": [
    "cos = boto3.resource(\"s3\", \n",
    "                     aws_access_key_id     = user_data[\"cos_hmac_access_key_id\"],\n",
    "                     aws_secret_access_key = user_data[\"cos_hmac_secret_access_key\"],\n",
    "                     endpoint_url          = user_data[\"cos_service_endpoint\"],\n",
    "                     region_name           = user_data[\"cos_region_name\"]\n",
    ")"
   ]
  },
  {
   "cell_type": "code",
   "execution_count": 5,
   "metadata": {},
   "outputs": [],
   "source": [
    "# for bucket in cos.buckets.all():\n",
    "#     print(bucket.name)"
   ]
  },
  {
   "cell_type": "markdown",
   "metadata": {},
   "source": [
    "Create two buckets, which you will use to store training data and training results.\n",
    "\n",
    "**Note:** The bucket names must be unique."
   ]
  },
  {
   "cell_type": "code",
   "execution_count": 6,
   "metadata": {},
   "outputs": [
    {
     "name": "stdout",
     "output_type": "stream",
     "text": [
      "Creating bucket \"training-data-3dab62c6-8696-49ac-b4fe-2abba301aa92\" ...\n",
      "Creating bucket \"training-results-3dab62c6-8696-49ac-b4fe-2abba301aa92\" ...\n"
     ]
    }
   ],
   "source": [
    "from uuid import uuid4\n",
    "\n",
    "bucket_uid             = str(uuid4())\n",
    "training_data_bucket   = 'training-data-' + bucket_uid\n",
    "training_result_bucket = 'training-results-' + bucket_uid\n",
    "\n",
    "def create_buckets(bucket_names):\n",
    "    for bucket in bucket_names:\n",
    "        print('Creating bucket \"{}\" ...'.format(bucket))\n",
    "        try:\n",
    "            cos.create_bucket(Bucket=bucket)\n",
    "        except boto3.exceptions.botocore.client.ClientError as e:\n",
    "            print('Error: {}.'.format(e.response['Error']['Message']))\n",
    "\n",
    "buckets = [training_data_bucket, training_result_bucket]\n",
    "\n",
    "create_buckets(buckets)\n"
   ]
  },
  {
   "cell_type": "markdown",
   "metadata": {},
   "source": [
    "Now you should have 2 buckets."
   ]
  },
  {
   "cell_type": "markdown",
   "metadata": {},
   "source": [
    "### 1.3. Download MNIST Training Data and Upload it to the COS Buckets"
   ]
  },
  {
   "cell_type": "markdown",
   "metadata": {},
   "source": [
    "Download the training data and upload it to the `training-data` bucket.\n",
    "First, create a list of links for the training dataset."
   ]
  },
  {
   "cell_type": "code",
   "execution_count": 7,
   "metadata": {},
   "outputs": [],
   "source": [
    "# Training data links\n",
    "data_links = ['https://s3.amazonaws.com/img-datasets/mnist.npz']"
   ]
  },
  {
   "cell_type": "markdown",
   "metadata": {},
   "source": [
    "The code in the next cell uploads files from links to your COS."
   ]
  },
  {
   "cell_type": "code",
   "execution_count": 8,
   "metadata": {},
   "outputs": [
    {
     "name": "stdout",
     "output_type": "stream",
     "text": [
      "Uploading data mnist.npz ...\n",
      "mnist.npz is uploaded.\n"
     ]
    }
   ],
   "source": [
    "# Upload files to COS\n",
    "from urllib.request import urlopen\n",
    "\n",
    "bucket_obj = cos.Bucket(training_data_bucket)\n",
    "\n",
    "for data_link in data_links:\n",
    "    filename = data_link.split('/')[-1]\n",
    "    print('Uploading data {} ...'.format(filename))\n",
    "    with urlopen(data_link) as data:\n",
    "        bucket_obj.upload_fileobj(data, filename)\n",
    "        print('{} is uploaded.'.format(filename))"
   ]
  },
  {
   "cell_type": "markdown",
   "metadata": {},
   "source": [
    "Have a look at the list of the created buckets and their contents."
   ]
  },
  {
   "cell_type": "code",
   "execution_count": 9,
   "metadata": {
    "scrolled": true
   },
   "outputs": [
    {
     "name": "stdout",
     "output_type": "stream",
     "text": [
      "training-data-3dab62c6-8696-49ac-b4fe-2abba301aa92\n",
      "  File: mnist.npz, 11221.13kB\n",
      "training-results-3dab62c6-8696-49ac-b4fe-2abba301aa92\n"
     ]
    }
   ],
   "source": [
    "def print_bucket_contents(buckets):\n",
    "    for bucket_name in buckets:\n",
    "        print(bucket_name)\n",
    "        bucket_obj = cos.Bucket(bucket_name)\n",
    "        for obj in bucket_obj.objects.all():\n",
    "            print(\"  File: {}, {:4.2f}kB\".format(obj.key, obj.size/1024))\n",
    "\n",
    "print_bucket_contents(buckets)"
   ]
  },
  {
   "cell_type": "markdown",
   "metadata": {},
   "source": [
    "You are done with COS, and you are ready to train your model!"
   ]
  },
  {
   "cell_type": "markdown",
   "metadata": {},
   "source": [
    "<a id=\"model\"></a>\n",
    "## 2. Create the Keras model\n",
    "\n",
    "In this section we:\n",
    "\n",
    "- [2.1 Package the model definition](#zip)\n",
    "- [2.2 Prepare the training definition metadata](#manifest)\n"
   ]
  },
  {
   "cell_type": "markdown",
   "metadata": {},
   "source": [
    "### 2.1. Create the Model Zip File <a id=\"zip\"></a>\n",
    "\n",
    "Let's create the model [`convolutional_keras.py`](../edit/convolutional_keras.py) and add it to a zip file."
   ]
  },
  {
   "cell_type": "code",
   "execution_count": 10,
   "metadata": {},
   "outputs": [],
   "source": [
    "script_filename  = \"convolutional_keras.py\"\n",
    "archive_filename = 'model.zip'"
   ]
  },
  {
   "cell_type": "code",
   "execution_count": 11,
   "metadata": {},
   "outputs": [
    {
     "name": "stdout",
     "output_type": "stream",
     "text": [
      "Writing convolutional_keras.py\n"
     ]
    }
   ],
   "source": [
    "%%writefile $script_filename\n",
    "\n",
    "from __future__ import print_function\n",
    "from keras.models import Sequential\n",
    "from keras.layers import Dense, Dropout, Flatten\n",
    "from keras.layers import Conv2D, MaxPooling2D\n",
    "from keras import backend as K\n",
    "\n",
    "import keras\n",
    "import numpy as np\n",
    "import sys\n",
    "import os\n",
    "\n",
    "batch_size = 128\n",
    "num_classes = 10\n",
    "epochs = 1\n",
    "\n",
    "img_rows, img_cols = 28, 28\n",
    "\n",
    "\n",
    "def main(argv):\n",
    "    if len(argv) < 2:\n",
    "        sys.exit(\"Not enough arguments provided.\")\n",
    "    global image_path\n",
    "    i = 1\n",
    "    while i <= 2:\n",
    "        arg = str(argv[i])\n",
    "        if arg == \"--data\":\n",
    "            image_path = os.path.join(os.environ[\"DATA_DIR\"], str(argv[i+1]))\n",
    "        i += 2\n",
    "\n",
    "\n",
    "if __name__ == \"__main__\":\n",
    "    main(sys.argv)\n",
    "\n",
    "\n",
    "# load mnist npz file\n",
    "f = np.load(image_path)\n",
    "x_train = f['x_train']\n",
    "y_train = f['y_train']\n",
    "x_test = f['x_test']\n",
    "y_test = f['y_test']\n",
    "f.close()\n",
    "\n",
    "if K.image_data_format() == 'channels_first':\n",
    "    x_train = x_train.reshape(x_train.shape[0], 1, img_rows, img_cols)\n",
    "    x_test = x_test.reshape(x_test.shape[0], 1, img_rows, img_cols)\n",
    "    input_shape = (1, img_rows, img_cols)\n",
    "else:\n",
    "    x_train = x_train.reshape(x_train.shape[0], img_rows, img_cols, 1)\n",
    "    x_test = x_test.reshape(x_test.shape[0], img_rows, img_cols, 1)\n",
    "    input_shape = (img_rows, img_cols, 1)\n",
    "\n",
    "x_train = x_train.astype('float32')\n",
    "x_test = x_test.astype('float32')\n",
    "x_train /= 255\n",
    "x_test /= 255\n",
    "\n",
    "# convert class vectors to binary class matrices\n",
    "y_train = keras.utils.to_categorical(y_train, num_classes)\n",
    "y_test = keras.utils.to_categorical(y_test, num_classes)\n",
    "\n",
    "# model\n",
    "model = Sequential()\n",
    "model.add(Conv2D(32, kernel_size=(3, 3),\n",
    "                 activation='relu',\n",
    "                 input_shape=input_shape))\n",
    "model.add(Conv2D(64, (3, 3), activation='relu'))\n",
    "model.add(MaxPooling2D(pool_size=(2, 2)))\n",
    "model.add(Dropout(0.25))\n",
    "model.add(Flatten())\n",
    "model.add(Dense(128, activation='relu'))\n",
    "model.add(Dropout(0.5))\n",
    "model.add(Dense(num_classes, activation='softmax'))\n",
    "\n",
    "model.compile(loss=keras.losses.categorical_crossentropy,\n",
    "              optimizer=keras.optimizers.Adadelta(),\n",
    "              metrics=['accuracy'])\n",
    "model.fit(x_train, y_train, batch_size=batch_size, epochs=epochs, verbose=1, validation_split=0.1)\n",
    "\n",
    "score = model.evaluate(x_test, y_test, verbose=0)\n",
    "\n",
    "print('Test loss:', score[0])\n",
    "print('Test accuracy:', score[1])\n",
    "\n",
    "model_wt_path = os.environ[\"RESULT_DIR\"] + \"/keras_original_model.hdf5\"\n",
    "model.save(model_wt_path)\n",
    "print(\"Model saved to file: %s\" % model_wt_path)\n",
    "\n",
    "model_def_path = os.environ[\"RESULT_DIR\"] + \"/keras_original_model.json\"\n",
    "model_json = model.to_json()\n",
    "with open(model_def_path, \"w\") as json_file:\n",
    "    json_file.write(model_json)\n",
    "print(\"Model definition saved to file: %s\" % model_def_path)\n"
   ]
  },
  {
   "cell_type": "code",
   "execution_count": 12,
   "metadata": {},
   "outputs": [
    {
     "name": "stdout",
     "output_type": "stream",
     "text": [
      "  adding: convolutional_keras.py (deflated 60%)\r\n"
     ]
    }
   ],
   "source": [
    "import zipfile\n",
    "\n",
    "zipfile.ZipFile(archive_filename, mode='w').write(script_filename)"
   ]
  },
  {
   "cell_type": "markdown",
   "metadata": {},
   "source": [
    "### 2.2. Prepare the Training Definition Metadata <a id=\"manifest\"></a>\n",
    "- *FfDL* does not have a *Keras* community image so we need to `pip`-install *Keras* prior to running the `training_command` \n",
    "- Your COS credentials are referenced in the `data_stores` > `connection` data."
   ]
  },
  {
   "cell_type": "code",
   "execution_count": 13,
   "metadata": {},
   "outputs": [],
   "source": [
    "import yaml\n",
    "\n",
    "training_command = \"pip3 install keras; python3 convolutional_keras.py --data ${DATA_DIR}/mnist.npz\"\n",
    "\n",
    "manifest = {\n",
    "  \"name\": \"keras_digit_recognition\",\n",
    "  \"description\": \"Hand-written Digit Recognition Training\",\n",
    "  \"version\": \"1.0\",\n",
    "  \"gpus\": 0,\n",
    "  \"cpus\": 2,\n",
    "  \"memory\": \"2Gb\",\n",
    "  \"data_stores\": [\n",
    "    {\n",
    "      \"id\": \"sl-internal-os\",\n",
    "      \"type\": \"s3_datastore\",\n",
    "      \"training_data\": {\n",
    "        \"container\": training_data_bucket\n",
    "      },\n",
    "      \"training_results\": {\n",
    "        \"container\": training_result_bucket\n",
    "      },\n",
    "      \"connection\": {\n",
    "        \"type\": \"s3_datastore\",\n",
    "        \"auth_url\":  user_data[\"cos_service_endpoint\"],\n",
    "        \"user_name\": user_data[\"cos_hmac_access_key_id\"],\n",
    "        \"password\":  user_data[\"cos_hmac_secret_access_key\"]\n",
    "      }\n",
    "    }\n",
    "  ],\n",
    "  \"framework\": {\n",
    "    \"name\": \"tensorflow\",\n",
    "    \"version\": \"1.5.0-py3\",\n",
    "    \"command\": training_command\n",
    "  },\n",
    "  \"evaluation_metrics\": {\n",
    "    \"type\": \"tensorboard\",\n",
    "    \"in\": \"$JOB_STATE_DIR/logs/tb\"\n",
    "  }\n",
    "}\n",
    "\n",
    "yaml.dump(manifest, open(\"manifest.yml\", \"w\"), default_flow_style=False)"
   ]
  },
  {
   "cell_type": "markdown",
   "metadata": {},
   "source": [
    "## 3. Train the Model<a id=\"train\"></a>\n",
    "\n",
    "In this section, learn how to:\n",
    "- [3.1 Setup the command line environment](#cmd_setup)\n",
    "- [3.2 Train the model in the background](#backg)\n",
    "- [3.3 Monitor the training log](#log)\n",
    "- [3.4 Cancel the training](#cancel)"
   ]
  },
  {
   "cell_type": "markdown",
   "metadata": {},
   "source": [
    "### 3.1. Setup the Command Line Environment <a id=\"cmd_setup\"></a>"
   ]
  },
  {
   "cell_type": "markdown",
   "metadata": {},
   "source": [
    "Load the Kubernetes cluster configuration using the [BlueMix CLI](https://console.bluemix.net/docs/cli/index.html#overview). Make sure your machine is logged in with `bx login`."
   ]
  },
  {
   "cell_type": "code",
   "execution_count": 14,
   "metadata": {},
   "outputs": [
    {
     "name": "stdout",
     "output_type": "stream",
     "text": [
      "env: VM_TYPE=ibmcloud\n",
      "env: CLUSTER_NAME=ffdl-with-art-cluster\n",
      "env: KUBECONFIG=~.bluemix/plugins/container-service/clusters/ffdl-with-art-cluster/kube-config-dal12-ffdl-with-art-cluster.yml\n"
     ]
    }
   ],
   "source": [
    "try:\n",
    "    %env VM_TYPE      {user_data[\"vm_type\"]}\n",
    "    %env CLUSTER_NAME {user_data[\"ffdl_cluster_name\"]}\n",
    "    cluster_config  = !bx cs cluster-config {user_data[\"ffdl_cluster_name\"]} | grep \"export KUBECONFIG=\"\n",
    "    %env KUBECONFIG   {cluster_config[-1].split(\"=\")[-1]}\n",
    "except IndexError:\n",
    "    print(\"The cluster %s could not be found.\" % {user_data[\"ffdl_cluster_name\"]})\n",
    "    print(\"Run 'bx cs clusters' to list all clusters you have access to.\")\n",
    "    #!bx cs clusters\n",
    "    raise"
   ]
  },
  {
   "cell_type": "markdown",
   "metadata": {},
   "source": [
    "Setup the DLaaS URL, username and password"
   ]
  },
  {
   "cell_type": "code",
   "execution_count": 15,
   "metadata": {},
   "outputs": [
    {
     "name": "stdout",
     "output_type": "stream",
     "text": [
      "env: DLAAS_URL=http://169.48.201.210:30020\n",
      "env: DLAAS_USERNAME=test-user\n",
      "env: DLAAS_PASSWORD=test\n"
     ]
    }
   ],
   "source": [
    "import os\n",
    "\n",
    "notebook_dir   = os.getcwd()\n",
    "ffdl_root_dir  = notebook_dir.replace(\"/etc/notebooks/art\", \"\")\n",
    "node_ip        = !(cd {ffdl_root_dir} && make --no-print-directory kubernetes-ip)\n",
    "restapi_port   = !kubectl get service ffdl-restapi -o jsonpath='{.spec.ports[0].nodePort}'\n",
    "dlaas_url      = \"http://%s:%s\" % (node_ip[0], restapi_port[0])\n",
    "\n",
    "%env DLAAS_URL        $dlaas_url\n",
    "%env DLAAS_USERNAME = test-user\n",
    "%env DLAAS_PASSWORD = test"
   ]
  },
  {
   "cell_type": "markdown",
   "metadata": {},
   "source": [
    "Obtain the correct FfDL CLI for your machine"
   ]
  },
  {
   "cell_type": "code",
   "execution_count": 16,
   "metadata": {},
   "outputs": [],
   "source": [
    "import platform\n",
    "\n",
    "ffdl = \"%s/cli/bin/ffdl-%s\" % (ffdl_root_dir, \"osx\" if platform.system() == \"Darwin\" else \"linux\")"
   ]
  },
  {
   "cell_type": "markdown",
   "metadata": {},
   "source": [
    "### 3.2. Start the Training Job<a id=\"backg\"></a>\n"
   ]
  },
  {
   "cell_type": "code",
   "execution_count": 17,
   "metadata": {},
   "outputs": [
    {
     "data": {
      "text/plain": [
       "[\"Deploying model with manifest 'manifest.yml' and model file 'model.zip'...\",\n",
       " 'Model ID: training-vIIKNQIiR',\n",
       " 'OK']"
      ]
     },
     "execution_count": 17,
     "metadata": {},
     "output_type": "execute_result"
    }
   ],
   "source": [
    "out = !{ffdl} train \"manifest.yml\" \"model.zip\"\n",
    "out"
   ]
  },
  {
   "cell_type": "markdown",
   "metadata": {},
   "source": [
    "### 3.3.  Monitor the Training Logs<a id=\"log\"></a>"
   ]
  },
  {
   "cell_type": "code",
   "execution_count": 18,
   "metadata": {},
   "outputs": [
    {
     "name": "stdout",
     "output_type": "stream",
     "text": [
      "Getting model training logs for '\u001b[1;36mtraining-vIIKNQIiR\u001b[0m'...\n",
      "Status: PENDING\n",
      "Status: Not Started\n",
      "Training with training/test data at:\n",
      "  DATA_DIR: /job/training-data-3dab62c6-8696-49ac-b4fe-2abba301aa92\n",
      "  MODEL_DIR: /job/model-code\n",
      "  TRAINING_JOB: \n",
      "  TRAINING_COMMAND: pip3 install keras; python3 convolutional_keras.py --data ${DATA_DIR}/mnist.npz\n",
      "Storing trained model at:\n",
      "  RESULT_DIR: /job/training-results-3dab62c6-8696-49ac-b4fe-2abba301aa92\n",
      "Contents of $MODEL_DIR\n",
      "total 12\n",
      "drwxrwxrwx 2 6342627 root 4096 Jun 11 04:02 .\n",
      "drwxrwxrwx 6 root    root 4096 Jun 11 04:02 ..\n",
      "-rwxrwxrwx 1 6342627 root 2649 Jun 10 21:00 convolutional_keras.py\n",
      "Contents of $DATA_DIR\n",
      "total 11232\n",
      "drwxr-xr-x 2 6342627 root     4096 Jun 11 04:02 .\n",
      "drwxrwxrwx 6 root    root     4096 Jun 11 04:02 ..\n",
      "-rw-r--r-- 1 6342627 root 11490434 Jun 11 04:00 mnist.npz\n",
      "DATA_DIR=/job/training-data-3dab62c6-8696-49ac-b4fe-2abba301aa92\n",
      "ELASTICSEARCH_PORT=tcp://172.21.40.112:9200\n",
      "ELASTICSEARCH_PORT_9200_TCP=tcp://172.21.40.112:9200\n",
      "ELASTICSEARCH_PORT_9200_TCP_ADDR=172.21.40.112\n",
      "ELASTICSEARCH_PORT_9200_TCP_PORT=9200\n",
      "ELASTICSEARCH_PORT_9200_TCP_PROTO=tcp\n",
      "ELASTICSEARCH_SERVICE_HOST=172.21.40.112\n",
      "ELASTICSEARCH_SERVICE_PORT=9200\n",
      "ELASTICSEARCH_SERVICE_PORT_HTTP=9200\n",
      "FFDL_LCM_PORT=tcp://172.21.112.20:80\n",
      "FFDL_LCM_PORT_80_TCP=tcp://172.21.112.20:80\n",
      "FFDL_LCM_PORT_80_TCP_ADDR=172.21.112.20\n",
      "FFDL_LCM_PORT_80_TCP_PORT=80\n",
      "FFDL_LCM_PORT_80_TCP_PROTO=tcp\n",
      "FFDL_LCM_SERVICE_HOST=172.21.112.20\n",
      "FFDL_LCM_SERVICE_PORT=80\n",
      "FFDL_LCM_SERVICE_PORT_GRPC=80\n",
      "FFDL_RESTAPI_PORT=tcp://172.21.130.217:80\n",
      "FFDL_RESTAPI_PORT_80_TCP=tcp://172.21.130.217:80\n",
      "FFDL_RESTAPI_PORT_80_TCP_ADDR=172.21.130.217\n",
      "FFDL_RESTAPI_PORT_80_TCP_PORT=80\n",
      "FFDL_RESTAPI_PORT_80_TCP_PROTO=tcp\n",
      "FFDL_RESTAPI_SERVICE_HOST=172.21.130.217\n",
      "FFDL_RESTAPI_SERVICE_PORT=80\n",
      "FFDL_RESTAPI_SERVICE_PORT_FFDL=80\n",
      "FFDL_TRAINER_PORT=tcp://172.21.226.67:80\n",
      "FFDL_TRAINER_PORT_80_TCP=tcp://172.21.226.67:80\n",
      "FFDL_TRAINER_PORT_80_TCP_ADDR=172.21.226.67\n",
      "FFDL_TRAINER_PORT_80_TCP_PORT=80\n",
      "FFDL_TRAINER_PORT_80_TCP_PROTO=tcp\n",
      "FFDL_TRAINER_SERVICE_HOST=172.21.226.67\n",
      "FFDL_TRAINER_SERVICE_PORT=80\n",
      "FFDL_TRAINER_SERVICE_PORT_GRPC=80\n",
      "FFDL_TRAININGDATA_PORT=tcp://172.21.106.158:80\n",
      "FFDL_TRAININGDATA_PORT_80_TCP=tcp://172.21.106.158:80\n",
      "FFDL_TRAININGDATA_PORT_80_TCP_ADDR=172.21.106.158\n",
      "FFDL_TRAININGDATA_PORT_80_TCP_PORT=80\n",
      "FFDL_TRAININGDATA_PORT_80_TCP_PROTO=tcp\n",
      "FFDL_TRAININGDATA_SERVICE_HOST=172.21.106.158\n",
      "FFDL_TRAININGDATA_SERVICE_PORT=80\n",
      "FFDL_TRAININGDATA_SERVICE_PORT_GRPC=80\n",
      "FFDL_UI_PORT=tcp://172.21.201.22:80\n",
      "FFDL_UI_PORT_80_TCP=tcp://172.21.201.22:80\n",
      "FFDL_UI_PORT_80_TCP_ADDR=172.21.201.22\n",
      "FFDL_UI_PORT_80_TCP_PORT=80\n",
      "FFDL_UI_PORT_80_TCP_PROTO=tcp\n",
      "FFDL_UI_SERVICE_HOST=172.21.201.22\n",
      "FFDL_UI_SERVICE_PORT=80\n",
      "FFDL_UI_SERVICE_PORT_HTTP=80\n",
      "GPU_COUNT=0.000000\n",
      "HOME=/root\n",
      "JOB_STATE_DIR=/job\n",
      "LEARNER_ID=1\n",
      "LOG_DIR=/job/logs\n",
      "MODEL_DIR=/job/model-code\n",
      "OLDPWD=/notebooks\n",
      "PATH=/usr/local/bin/:/usr/local/sbin:/usr/local/bin:/usr/sbin:/usr/bin:/sbin:/bin\n",
      "PROMETHEUS_PORT=tcp://172.21.53.216:9090\n",
      "PROMETHEUS_PORT_9090_TCP=tcp://172.21.53.216:9090\n",
      "PROMETHEUS_PORT_9090_TCP_ADDR=172.21.53.216\n",
      "PROMETHEUS_PORT_9090_TCP_PORT=9090\n",
      "PROMETHEUS_PORT_9090_TCP_PROTO=tcp\n",
      "PROMETHEUS_SERVICE_HOST=172.21.53.216\n",
      "PROMETHEUS_SERVICE_PORT=9090\n",
      "PROMETHEUS_SERVICE_PORT_PROMETHEUS=9090\n",
      "PWD=/job/model-code\n",
      "PYTHONPATH=:/job/model-code\n",
      "RESULT_DIR=/job/training-results-3dab62c6-8696-49ac-b4fe-2abba301aa92\n",
      "S3_PORT=tcp://172.21.95.18:80\n",
      "S3_PORT_80_TCP=tcp://172.21.95.18:80\n",
      "S3_PORT_80_TCP_ADDR=172.21.95.18\n",
      "S3_PORT_80_TCP_PORT=80\n",
      "S3_PORT_80_TCP_PROTO=tcp\n",
      "S3_SERVICE_HOST=172.21.95.18\n",
      "S3_SERVICE_PORT=80\n",
      "SHLVL=3\n",
      "TRAINING_COMMAND=pip3 install keras; python3 convolutional_keras.py --data ${DATA_DIR}/mnist.npz\n",
      "TRAINING_ID=training-vIIKNQIiR\n",
      "_=/usr/bin/env\n",
      "Mon Jun 11 04:02:13 UTC 2018: Running training job\n",
      "Collecting keras\n",
      "  Downloading https://files.pythonhosted.org/packages/68/12/4cabc5c01451eb3b413d19ea151f36e33026fc0efb932bf51bcaf54acbf5/Keras-2.2.0-py2.py3-none-any.whl (300kB)\n",
      "Requirement already satisfied: h5py in /usr/local/lib/python3.5/dist-packages (from keras)\n",
      "Requirement already satisfied: numpy>=1.9.1 in /usr/local/lib/python3.5/dist-packages (from keras)\n",
      "Collecting keras-preprocessing==1.0.1 (from keras)\n",
      "  Downloading https://files.pythonhosted.org/packages/f8/33/275506afe1d96b221f66f95adba94d1b73f6b6087cfb6132a5655b6fe338/Keras_Preprocessing-1.0.1-py2.py3-none-any.whl\n",
      "Requirement already satisfied: six>=1.9.0 in /usr/local/lib/python3.5/dist-packages (from keras)\n",
      "Requirement already satisfied: scipy>=0.14 in /usr/local/lib/python3.5/dist-packages (from keras)\n",
      "Collecting keras-applications==1.0.2 (from keras)\n",
      "  Downloading https://files.pythonhosted.org/packages/e2/60/c557075e586e968d7a9c314aa38c236b37cb3ee6b37e8d57152b1a5e0b47/Keras_Applications-1.0.2-py2.py3-none-any.whl (43kB)\n",
      "Collecting pyyaml (from keras)\n",
      "  Downloading https://files.pythonhosted.org/packages/4a/85/db5a2df477072b2902b0eb892feb37d88ac635d36245a72a6a69b23b383a/PyYAML-3.12.tar.gz (253kB)\n",
      "Building wheels for collected packages: pyyaml\n",
      "  Running setup.py bdist_wheel for pyyaml: started\n",
      "  Running setup.py bdist_wheel for pyyaml: finished with status 'done'\n",
      "  Stored in directory: /root/.cache/pip/wheels/03/05/65/bdc14f2c6e09e82ae3e0f13d021e1b6b2481437ea2f207df3f\n",
      "Successfully built pyyaml\n",
      "Installing collected packages: keras-preprocessing, keras-applications, pyyaml, keras\n",
      "Successfully installed keras-2.2.0 keras-applications-1.0.2 keras-preprocessing-1.0.1 pyyaml-3.12\n",
      "You are using pip version 9.0.1, however version 10.0.1 is available.\n",
      "You should consider upgrading via the 'pip install --upgrade pip' command.\n",
      "2018-06-11 04:02:19.065097: I tensorflow/core/platform/cpu_feature_guard.cc:137] Your CPU supports instructions that this TensorFlow binary was not compiled to use: SSE4.1 SSE4.2 AVX AVX2 FMA\n",
      "Train on 54000 samples, validate on 6000 samples\n",
      "Epoch 1/1\n",
      "\n",
      "  128/54000 [..............................] - ETA: 6:03 - loss: 2.3382 - acc: 0.0469\n",
      "  256/54000 [..............................] - ETA: 5:10 - loss: 2.2959 - acc: 0.1172\n",
      "  384/54000 [..............................] - ETA: 4:58 - loss: 2.2550 - acc: 0.1328\n",
      "  512/54000 [..............................] - ETA: 4:45 - loss: 2.2072 - acc: 0.1875\n",
      "  640/54000 [..............................] - ETA: 4:33 - loss: 2.1548 - acc: 0.2156\n",
      "  768/54000 [..............................] - ETA: 4:28 - loss: 2.0889 - acc: 0.2487\n",
      "  896/54000 [..............................] - ETA: 4:26 - loss: 2.0252 - acc: 0.2835\n",
      " 1024/54000 [..............................] - ETA: 4:25 - loss: 2.0009 - acc: 0.2939\n",
      " 1152/54000 [..............................] - ETA: 4:22 - loss: 1.9649 - acc: 0.3134\n",
      " 1280/54000 [..............................] - ETA: 4:21 - loss: 1.9351 - acc: 0.3273\n",
      " 1408/54000 [..............................] - ETA: 4:19 - loss: 1.8885 - acc: 0.3423\n",
      " 1536/54000 [..............................] - ETA: 4:17 - loss: 1.8577 - acc: 0.3555\n",
      " 1664/54000 [..............................] - ETA: 4:16 - loss: 1.8253 - acc: 0.3744\n",
      " 1792/54000 [..............................] - ETA: 4:14 - loss: 1.7967 - acc: 0.3834\n",
      " 1920/54000 [>.............................] - ETA: 4:13 - loss: 1.7511 - acc: 0.4031\n",
      " 2048/54000 [>.............................] - ETA: 4:12 - loss: 1.6997 - acc: 0.4224\n",
      " 2176/54000 [>.............................] - ETA: 4:11 - loss: 1.6624 - acc: 0.4343\n",
      " 2304/54000 [>.............................] - ETA: 4:10 - loss: 1.6430 - acc: 0.4405\n",
      " 2432/54000 [>.............................] - ETA: 4:09 - loss: 1.6111 - acc: 0.4519\n",
      " 2560/54000 [>.............................] - ETA: 4:08 - loss: 1.5762 - acc: 0.4641\n",
      " 2688/54000 [>.............................] - ETA: 4:07 - loss: 1.5409 - acc: 0.4777\n",
      " 2816/54000 [>.............................] - ETA: 4:06 - loss: 1.5126 - acc: 0.4883\n",
      " 2944/54000 [>.............................] - ETA: 4:05 - loss: 1.4870 - acc: 0.4966\n",
      " 3072/54000 [>.............................] - ETA: 4:04 - loss: 1.4598 - acc: 0.5072\n",
      " 3200/54000 [>.............................] - ETA: 4:04 - loss: 1.4294 - acc: 0.5194\n",
      " 3328/54000 [>.............................] - ETA: 4:03 - loss: 1.4010 - acc: 0.5300\n",
      " 3456/54000 [>.............................] - ETA: 4:02 - loss: 1.3822 - acc: 0.5373\n",
      " 3584/54000 [>.............................] - ETA: 4:01 - loss: 1.3540 - acc: 0.5488\n"
     ]
    },
    {
     "name": "stdout",
     "output_type": "stream",
     "text": [
      "52992/54000 [============================>.] - ETA: 4s - loss: 0.3059 - acc: 0.9054\n",
      "53120/54000 [============================>.] - ETA: 4s - loss: 0.3056 - acc: 0.9055\n",
      "53248/54000 [============================>.] - ETA: 3s - loss: 0.3053 - acc: 0.9056\n",
      "53376/54000 [============================>.] - ETA: 2s - loss: 0.3048 - acc: 0.9058\n",
      "53504/54000 [============================>.] - ETA: 2s - loss: 0.3044 - acc: 0.9059\n",
      "53632/54000 [============================>.] - ETA: 1s - loss: 0.3039 - acc: 0.9060\n",
      "53760/54000 [============================>.] - ETA: 1s - loss: 0.3036 - acc: 0.9061\n",
      "53888/54000 [============================>.] - ETA: 0s - loss: 0.3030 - acc: 0.9063\n",
      "54000/54000 [==============================] - 263s 5ms/step - loss: 0.3028 - acc: 0.9064 - val_loss: 0.0592 - val_acc: 0.9835\n",
      "/usr/local/lib/python3.5/dist-packages/h5py/__init__.py:36: FutureWarning: Conversion of the second argument of issubdtype from `float` to `np.floating` is deprecated. In future, it will be treated as `np.float64 == np.dtype(float).type`.\n",
      "  from ._conv import register_converters as _register_converters\n",
      "Using TensorFlow backend.\n",
      "Test loss: 0.06394996056337841\n",
      "Test accuracy: 0.978\n",
      "Model saved to file: /job/training-results-3dab62c6-8696-49ac-b4fe-2abba301aa92/keras_original_model.hdf5\n",
      "Model definition saved to file: /job/training-results-3dab62c6-8696-49ac-b4fe-2abba301aa92/keras_original_model.json\n",
      "Training process finished. Exit code: 0\n",
      "\n"
     ]
    }
   ],
   "source": [
    "if \"Model ID\" in out[1]:\n",
    "    model_id = out.fields()[1][-1]\n",
    "    !{ffdl} logs --follow {model_id}"
   ]
  },
  {
   "cell_type": "markdown",
   "metadata": {},
   "source": [
    "## 4. Generate Adversarial Samples <a id=\"art\"></a>\n",
    "\n",
    "In this section, we learn how to:\n",
    "- [4.1 Generate adversarial samples with ART (synchronously in notebook)](#artLocal)\n",
    "- [4.2 Generate adversarial samples with ART (asynchronously using FfDL)](#artWithFfDL)"
   ]
  },
  {
   "cell_type": "markdown",
   "metadata": {},
   "source": [
    "### 4.1. Generate Adversarial Samples Locally <a id=\"artLocal\"></a>\n",
    "\n",
    "This section shows how to use the ART Fast Gradient Method (FGM) to generate adversarial samples for the model previously trained synchronously in this notebook. \n",
    "\n",
    "A trained model should have been created in the `training_result_bucket`. Now ART can be used to check the robustness of the trained model. \n",
    "\n",
    "The original dataset used to train the model as well as the trained model serve as inputs to the `robustness_check.py` script. We can download both from the `training_data_bucket` and the `training_result_bucket` respectively."
   ]
  },
  {
   "cell_type": "markdown",
   "metadata": {},
   "source": [
    "First, download the original data set and the trained model from Cloud Object Store."
   ]
  },
  {
   "cell_type": "code",
   "execution_count": 19,
   "metadata": {},
   "outputs": [],
   "source": [
    "dataset_filename = \"mnist.npz\"\n",
    "weights_filename = \"keras_original_model.hdf5\"\n",
    "network_definition_filename = \"keras_original_model.json\""
   ]
  },
  {
   "cell_type": "markdown",
   "metadata": {},
   "source": [
    "Print contents of COS buckets used in the previous training run"
   ]
  },
  {
   "cell_type": "code",
   "execution_count": 20,
   "metadata": {},
   "outputs": [
    {
     "name": "stdout",
     "output_type": "stream",
     "text": [
      "training-data-3dab62c6-8696-49ac-b4fe-2abba301aa92\n",
      "  File: mnist.npz, 11221.13kB\n",
      "training-results-3dab62c6-8696-49ac-b4fe-2abba301aa92\n",
      "  File: training-vIIKNQIiR/keras_original_model.hdf5, 14092.55kB\n",
      "  File: training-vIIKNQIiR/keras_original_model.json, 2.75kB\n",
      "  File: training-vIIKNQIiR/learner-1/load-data.log, 3.39kB\n",
      "  File: training-vIIKNQIiR/learner-1/load-model.log, 0.42kB\n",
      "  File: training-vIIKNQIiR/learner-1/training-log.txt, 41.58kB\n"
     ]
    }
   ],
   "source": [
    "print_bucket_contents([training_data_bucket, training_result_bucket])"
   ]
  },
  {
   "cell_type": "code",
   "execution_count": 21,
   "metadata": {},
   "outputs": [
    {
     "name": "stdout",
     "output_type": "stream",
     "text": [
      "Downloaded keras_original_model.hdf5\n",
      "Downloaded keras_original_model.json\n"
     ]
    }
   ],
   "source": [
    "# download network definition and weights to current working directory\n",
    "\n",
    "weights_file_in_cos_bucket = os.path.join(model_id, weights_filename)\n",
    "network_definition_file_in_cos_bucket = os.path.join(model_id, network_definition_filename)\n",
    "\n",
    "bucket_obj = cos.Bucket(training_result_bucket)\n",
    "\n",
    "bucket_obj.download_file(weights_file_in_cos_bucket, weights_filename)\n",
    "print('Downloaded', weights_filename)\n",
    "\n",
    "bucket_obj.download_file(network_definition_file_in_cos_bucket, network_definition_filename)\n",
    "print('Downloaded', network_definition_filename)"
   ]
  },
  {
   "cell_type": "markdown",
   "metadata": {},
   "source": [
    "Download the original data set (mnist.npz)"
   ]
  },
  {
   "cell_type": "code",
   "execution_count": 22,
   "metadata": {},
   "outputs": [
    {
     "name": "stdout",
     "output_type": "stream",
     "text": [
      "Downloaded mnist.npz\n"
     ]
    }
   ],
   "source": [
    "# download dataset\n",
    "bucket_obj = cos.Bucket(training_data_bucket)\n",
    "bucket_obj.download_file(dataset_filename, dataset_filename)\n",
    "print('Downloaded', dataset_filename)"
   ]
  },
  {
   "cell_type": "markdown",
   "metadata": {},
   "source": [
    "Load & compile the model that we created using `convolutional_keras.py`"
   ]
  },
  {
   "cell_type": "code",
   "execution_count": 23,
   "metadata": {},
   "outputs": [
    {
     "name": "stdout",
     "output_type": "stream",
     "text": [
      "Network Definition: keras_original_model.json\n",
      "Weights:            keras_original_model.hdf5\n"
     ]
    }
   ],
   "source": [
    "import numpy as np\n",
    "import tensorflow as tf\n",
    "from keras import backend as K\n",
    "from keras.models import model_from_json\n",
    "\n",
    "print('Network Definition:', network_definition_filename)\n",
    "print('Weights:           ', weights_filename)\n",
    "\n",
    "# load model\n",
    "json_file = open(network_definition_filename, 'r')\n",
    "model_json = json_file.read()\n",
    "json_file.close()\n",
    "\n",
    "model = model_from_json(model_json)\n",
    "model.load_weights(weights_filename)\n",
    "comp_params = {'loss': 'categorical_crossentropy',\n",
    "                       'optimizer': 'adam',\n",
    "                       'metrics': ['accuracy']}\n",
    "model.compile(**comp_params)"
   ]
  },
  {
   "cell_type": "markdown",
   "metadata": {},
   "source": [
    "After loading & compiling the model, the next step is to create a KerasClassifier"
   ]
  },
  {
   "cell_type": "code",
   "execution_count": 24,
   "metadata": {},
   "outputs": [],
   "source": [
    "# create ART classifier object\n",
    "from art.classifiers.keras import KerasClassifier\n",
    "\n",
    "classifier = KerasClassifier((0, 1), model)"
   ]
  },
  {
   "cell_type": "markdown",
   "metadata": {},
   "source": [
    "Load the test data and labels from `mnist.npz`"
   ]
  },
  {
   "cell_type": "code",
   "execution_count": 25,
   "metadata": {},
   "outputs": [],
   "source": [
    "from keras.utils import np_utils\n",
    "\n",
    "f = np.load(dataset_filename)\n",
    "x_original = f['x_test']\n",
    "y = f['y_test']\n",
    "f.close()"
   ]
  },
  {
   "cell_type": "markdown",
   "metadata": {},
   "source": [
    "Visualize the original (non-adversarial) sample"
   ]
  },
  {
   "cell_type": "code",
   "execution_count": 26,
   "metadata": {},
   "outputs": [
    {
     "name": "stdout",
     "output_type": "stream",
     "text": [
      "2\n"
     ]
    },
    {
     "data": {
      "image/png": "[encoded data removed]",
      "text/plain": [
       "<Figure size 432x288 with 1 Axes>"
      ]
     },
     "metadata": {},
     "output_type": "display_data"
    }
   ],
   "source": [
    "%matplotlib inline\n",
    "import matplotlib.pyplot as plt\n",
    "import numpy as np\n",
    "\n",
    "plt.imshow(x_original[1], cmap='gray')\n",
    "print(y[1])"
   ]
  },
  {
   "cell_type": "markdown",
   "metadata": {},
   "source": [
    "Standardize the Numpy array"
   ]
  },
  {
   "cell_type": "code",
   "execution_count": 27,
   "metadata": {},
   "outputs": [],
   "source": [
    "# preprocess\n",
    "x_original = np.expand_dims(x_original, axis=3)\n",
    "x_original = x_original.astype('float32') / 255\n",
    "y = np_utils.to_categorical(y, 10)"
   ]
  },
  {
   "cell_type": "markdown",
   "metadata": {},
   "source": [
    "Evaluate the model and calculated test accuracy"
   ]
  },
  {
   "cell_type": "code",
   "execution_count": 28,
   "metadata": {},
   "outputs": [
    {
     "name": "stdout",
     "output_type": "stream",
     "text": [
      "model test loss:     6.394996068091132\n",
      "model test accuracy: 97.8\n"
     ]
    }
   ],
   "source": [
    "# evaluate\n",
    "scores = model.evaluate(x_original, y, verbose=0)\n",
    "print('model test loss:    ', scores[0]*100)\n",
    "print('model test accuracy:', scores[1]*100)\n",
    "model_accuracy = scores[1]*100"
   ]
  },
  {
   "cell_type": "markdown",
   "metadata": {},
   "source": [
    "ART exposes many attacks like FGM, NewtonFool, DeepFool, Carlini etc. The code below shows how to use one of ART's attack methods (Fast Gradient Method or FGM) to craft adversarial samples based on x_test"
   ]
  },
  {
   "cell_type": "code",
   "execution_count": 29,
   "metadata": {},
   "outputs": [
    {
     "name": "stdout",
     "output_type": "stream",
     "text": [
      "Number of adversarial samples crafted: 10000\n",
      "adversarial samples saved to: etc/notebooks/art/adv_samples\n"
     ]
    }
   ],
   "source": [
    "from art.attacks.fast_gradient import FastGradientMethod\n",
    "\n",
    "# configuration\n",
    "epsilon = 0.2\n",
    "\n",
    "# create crafter object\n",
    "crafter = FastGradientMethod(classifier, eps=epsilon)\n",
    "\n",
    "# craft samples on x_test (stored in variable x_original)\n",
    "x_adv_samples = crafter.generate(x_original)\n",
    "\n",
    "outfile = os.path.join(os.getcwd(), 'adv_samples')\n",
    "np.savez(outfile, x_original=x_original, x_adversarial=x_adv_samples, y=y)\n",
    "\n",
    "print(\"Number of adversarial samples crafted:\", len(x_adv_samples))\n",
    "print(\"adversarial samples saved to:\", outfile)"
   ]
  },
  {
   "cell_type": "markdown",
   "metadata": {},
   "source": [
    "The following functions can be used for gathering metrics like model robustness, confidence metric, perturbation metric"
   ]
  },
  {
   "cell_type": "code",
   "execution_count": 30,
   "metadata": {},
   "outputs": [],
   "source": [
    "import numpy.linalg as la\n",
    "import json\n",
    "\n",
    "\n",
    "def get_metrics(model, x_original, x_adv_samples, y):\n",
    "    scores = model.evaluate(x_original, y, verbose=0)\n",
    "    model_accuracy_on_non_adversarial_samples = scores[1] * 100\n",
    "\n",
    "    y_pred = model.predict(x_original, verbose=0)\n",
    "    y_pred_adv = model.predict(x_adv_samples, verbose=0)\n",
    "\n",
    "    scores = model.evaluate(x_adv_samples, y, verbose=0)\n",
    "    model_accuracy_on_adversarial_samples = scores[1] * 100\n",
    "\n",
    "    pert_metric = get_perturbation_metric(x_original, x_adv_samples, y_pred, y_pred_adv, ord=2)\n",
    "    conf_metric = get_confidence_metric(y_pred, y_pred_adv)\n",
    "\n",
    "    data = {\n",
    "        \"model accuracy on test data:\": model_accuracy_on_non_adversarial_samples,\n",
    "        \"model accuracy on adversarial samples\": model_accuracy_on_adversarial_samples,\n",
    "        \"reduction in confidence\": conf_metric * 100,\n",
    "        \"average perturbation\": pert_metric * 100\n",
    "    }\n",
    "    return data\n",
    "\n",
    "\n",
    "def get_perturbation_metric(x_original, x_adv, y_pred, y_pred_adv, ord=2):\n",
    "\n",
    "    idxs = (np.argmax(y_pred_adv, axis=1) != np.argmax(y_pred, axis=1))\n",
    "\n",
    "    if np.sum(idxs) == 0.0:\n",
    "        return 0\n",
    "\n",
    "    perts_norm = la.norm((x_adv - x_original).reshape(x_original.shape[0], -1), ord, axis=1)\n",
    "    perts_norm = perts_norm[idxs]\n",
    "\n",
    "    return np.mean(perts_norm / la.norm(x_original[idxs].reshape(np.sum(idxs), -1), ord, axis=1))\n",
    "\n",
    "\n",
    "# This computes the change in confidence for all images in the test set\n",
    "def get_confidence_metric(y_pred, y_pred_adv):\n",
    "\n",
    "    y_classidx = np.argmax(y_pred, axis=1)\n",
    "    y_classconf = y_pred[np.arange(y_pred.shape[0]), y_classidx]\n",
    "\n",
    "    y_adv_classidx = np.argmax(y_pred_adv, axis=1)\n",
    "    y_adv_classconf = y_pred_adv[np.arange(y_pred_adv.shape[0]), y_adv_classidx]\n",
    "\n",
    "    idxs = (y_classidx == y_adv_classidx)\n",
    "\n",
    "    if np.sum(idxs) == 0.0:\n",
    "        return 0\n",
    "\n",
    "    idxnonzero = y_classconf != 0\n",
    "    idxs = idxs & idxnonzero\n",
    "\n",
    "    return np.mean((y_classconf[idxs] - y_adv_classconf[idxs]) / y_classconf[idxs])"
   ]
  },
  {
   "cell_type": "markdown",
   "metadata": {},
   "source": [
    "The below cell will display the following\n",
    "\n",
    "1. Model accuracy on test data\n",
    "2. Model robustness on adversarial samples\n",
    "3. Reduction in confidence\n",
    "4. Perturbation metric"
   ]
  },
  {
   "cell_type": "code",
   "execution_count": 31,
   "metadata": {},
   "outputs": [
    {
     "name": "stdout",
     "output_type": "stream",
     "text": [
      "{ \n",
      "    \"model accuracy on test data:\": 97.8,\n",
      "    \"model accuracy on adversarial samples\": 41.85,\n",
      "    \"reduction in confidence\": 29.16172742843628\n",
      "    \"average perturbation\": 47.15782701969147,\n",
      "}\n"
     ]
    }
   ],
   "source": [
    "result = get_metrics(model, x_original, x_adv_samples, y)\n",
    "\n",
    "print(json.dumps(result, indent=4, sort_keys=False))"
   ]
  },
  {
   "cell_type": "code",
   "execution_count": 32,
   "metadata": {},
   "outputs": [],
   "source": [
    "# convert the numpy array, so that the adversarial images can be visualized\n",
    "\n",
    "x_adv = (x_adv_samples * 255).astype('int')\n",
    "x_adv = x_adv[:, :, :, 0]"
   ]
  },
  {
   "cell_type": "markdown",
   "metadata": {},
   "source": [
    "And visualize an adversarial sample"
   ]
  },
  {
   "cell_type": "code",
   "execution_count": 33,
   "metadata": {},
   "outputs": [
    {
     "data": {
      "image/png": "[encoded data removed]",
      "text/plain": [
       "<Figure size 432x288 with 1 Axes>"
      ]
     },
     "metadata": {},
     "output_type": "display_data"
    }
   ],
   "source": [
    "plt.imshow(x_adv[1], cmap='gray');"
   ]
  },
  {
   "cell_type": "markdown",
   "metadata": {},
   "source": [
    "### 4.2. Generate Adversarial Samples Asynchronously using FfDL <a id=\"artWithFfDL\"></a>\n",
    "\n",
    "As its name suggests, FGM is a relatively short running method to generate adversarial samples. Other attack techniques can take much longer and therefore you may want to use additional computing resources and generate adversarial samples through an asynchronous Watsom ML training request. This section shows how to gather the relevant information to execute FGM as an asynchronous FfDL training job. "
   ]
  },
  {
   "cell_type": "markdown",
   "metadata": {},
   "source": [
    "Lets first create two COS buckets."
   ]
  },
  {
   "cell_type": "code",
   "execution_count": 34,
   "metadata": {},
   "outputs": [
    {
     "name": "stdout",
     "output_type": "stream",
     "text": [
      "Creating bucket \"robustnesscheck-data-9b9e2782-4b17-4930-b9a4-bbe4862dc6ca\" ...\n",
      "Creating bucket \"robustnesscheck-results-9b9e2782-4b17-4930-b9a4-bbe4862dc6ca\" ...\n"
     ]
    }
   ],
   "source": [
    "from uuid import uuid4\n",
    "\n",
    "bucket_uid = str(uuid4())\n",
    "\n",
    "robustnesscheck_data_bucket   = 'robustnesscheck-data-'    + bucket_uid\n",
    "robustnesscheck_result_bucket = 'robustnesscheck-results-' + bucket_uid\n",
    "\n",
    "buckets = [robustnesscheck_data_bucket,\n",
    "           robustnesscheck_result_bucket]\n",
    "\n",
    "create_buckets(buckets)"
   ]
  },
  {
   "cell_type": "markdown",
   "metadata": {},
   "source": [
    "Upload all the artifacts (`mnist.npz`, `keras_original_model.json`, `keras_original_model.hdf5`) to the `robustnesscheck_data_bucket`"
   ]
  },
  {
   "cell_type": "code",
   "execution_count": 35,
   "metadata": {},
   "outputs": [
    {
     "name": "stdout",
     "output_type": "stream",
     "text": [
      "Uploading files to robustnesscheck-data-9b9e2782-4b17-4930-b9a4-bbe4862dc6ca:\n",
      "- mnist.npz was uploaded\n",
      "- keras_original_model.hdf5 was uploaded\n",
      "- keras_original_model.json was uploaded\n"
     ]
    }
   ],
   "source": [
    "# upload\n",
    "\n",
    "bucket_obj = cos.Bucket(robustnesscheck_data_bucket)\n",
    "print(\"Uploading files to {}:\".format(robustnesscheck_data_bucket))\n",
    "\n",
    "bucket_obj.upload_file(dataset_filename, dataset_filename)\n",
    "print('- {} was uploaded'.format(dataset_filename)) \n",
    "\n",
    "bucket_obj.upload_file(weights_filename, weights_filename)\n",
    "print('- {} was uploaded'.format(weights_filename))\n",
    "\n",
    "bucket_obj.upload_file(network_definition_filename, network_definition_filename)\n",
    "print('- {} was uploaded'.format(network_definition_filename))"
   ]
  },
  {
   "cell_type": "markdown",
   "metadata": {
    "collapsed": true
   },
   "source": [
    "Create a Python script that generates adversarial samples to check robustness using FGM (Fast Gradient Method) from the ART library"
   ]
  },
  {
   "cell_type": "code",
   "execution_count": 36,
   "metadata": {},
   "outputs": [],
   "source": [
    "script_filename  = \"robustness_check.py\"\n",
    "archive_filename = 'model.zip'"
   ]
  },
  {
   "cell_type": "code",
   "execution_count": 37,
   "metadata": {},
   "outputs": [
    {
     "name": "stdout",
     "output_type": "stream",
     "text": [
      "Writing robustness_check.py\n"
     ]
    }
   ],
   "source": [
    "%%writefile $script_filename\n",
    "\n",
    "import os\n",
    "import sys\n",
    "import numpy as np\n",
    "import numpy.linalg as la\n",
    "import json\n",
    "\n",
    "from keras.models import model_from_json\n",
    "from art.classifiers.keras import KerasClassifier\n",
    "from keras.utils import np_utils\n",
    "from art.attacks.fast_gradient import FastGradientMethod\n",
    "\n",
    "\n",
    "def get_metrics(model, x_original, x_adv_samples, y):\n",
    "    scores = model.evaluate(x_original, y, verbose=0)\n",
    "    model_accuracy_on_non_adversarial_samples = scores[1] * 100\n",
    "\n",
    "    y_pred = model.predict(x_original, verbose=0)\n",
    "    y_pred_adv = model.predict(x_adv_samples, verbose=0)\n",
    "\n",
    "    scores = model.evaluate(x_adv_samples, y, verbose=0)\n",
    "    model_accuracy_on_adversarial_samples = scores[1] * 100\n",
    "\n",
    "    pert_metric = get_perturbation_metric(x_original, x_adv_samples, y_pred, y_pred_adv, ord=2)\n",
    "    conf_metric = get_confidence_metric(y_pred, y_pred_adv)\n",
    "\n",
    "    data = {\n",
    "        \"model accuracy on test data:\": model_accuracy_on_non_adversarial_samples,\n",
    "        \"model accuracy on adversarial samples\": model_accuracy_on_adversarial_samples,\n",
    "        \"reduction in confidence\": conf_metric * 100,\n",
    "        \"average perturbation\": pert_metric * 100\n",
    "    }\n",
    "    return data\n",
    "\n",
    "\n",
    "def get_perturbation_metric(x_original, x_adv, y_pred, y_pred_adv, ord=2):\n",
    "\n",
    "    idxs = (np.argmax(y_pred_adv, axis=1) != np.argmax(y_pred, axis=1))\n",
    "\n",
    "    if np.sum(idxs) == 0.0:\n",
    "        return 0\n",
    "\n",
    "    perts_norm = la.norm((x_adv - x_original).reshape(x_original.shape[0], -1), ord, axis=1)\n",
    "    perts_norm = perts_norm[idxs]\n",
    "\n",
    "    return np.mean(perts_norm / la.norm(x_original[idxs].reshape(np.sum(idxs), -1), ord, axis=1))\n",
    "\n",
    "\n",
    "# This computes the change in confidence for all images in the test set\n",
    "def get_confidence_metric(y_pred, y_pred_adv):\n",
    "\n",
    "    y_classidx = np.argmax(y_pred, axis=1)\n",
    "    y_classconf = y_pred[np.arange(y_pred.shape[0]), y_classidx]\n",
    "\n",
    "    y_adv_classidx = np.argmax(y_pred_adv, axis=1)\n",
    "    y_adv_classconf = y_pred_adv[np.arange(y_pred_adv.shape[0]), y_adv_classidx]\n",
    "\n",
    "    idxs = (y_classidx == y_adv_classidx)\n",
    "\n",
    "    if np.sum(idxs) == 0.0:\n",
    "        return 0\n",
    "\n",
    "    idxnonzero = y_classconf != 0\n",
    "    idxs = idxs & idxnonzero\n",
    "\n",
    "    return np.mean((y_classconf[idxs] - y_adv_classconf[idxs]) / y_classconf[idxs])\n",
    "\n",
    "\n",
    "def main(argv):\n",
    "    if len(argv) < 2:\n",
    "        sys.exit(\"Not enough arguments provided.\")\n",
    "\n",
    "    global network_definition_filename, weights_filename, dataset_filename\n",
    "\n",
    "    i = 1\n",
    "    while i <= 8:\n",
    "        arg = str(argv[i])\n",
    "        print(arg)\n",
    "        if arg == \"--data\":\n",
    "            dataset_filename = os.path.join(os.environ[\"DATA_DIR\"], str(argv[i+1]))\n",
    "        if arg == \"--networkdefinition\":\n",
    "            network_definition_filename = os.path.join(os.environ[\"DATA_DIR\"], str(argv[i+1]))\n",
    "        if arg == \"--weights\":\n",
    "            weights_filename = os.path.join(os.environ[\"DATA_DIR\"], str(argv[i+1]))\n",
    "        if arg == \"--epsilon\":\n",
    "            epsilon = float(argv[i+1])\n",
    "\n",
    "        i += 2\n",
    "\n",
    "    print(\"dataset: \", dataset_filename)\n",
    "    print(\"network definition: \", network_definition_filename)\n",
    "    print(\"weights: \", weights_filename)\n",
    "\n",
    "    # load & compile model\n",
    "    json_file = open(network_definition_filename, 'r')\n",
    "    model_json = json_file.read()\n",
    "    json_file.close()\n",
    "    model = model_from_json(model_json)\n",
    "    model.load_weights(weights_filename)\n",
    "    comp_params = {'loss': 'categorical_crossentropy',\n",
    "                   'optimizer': 'adam',\n",
    "                   'metrics': ['accuracy']}\n",
    "    model.compile(**comp_params)\n",
    "\n",
    "    # create keras classifier\n",
    "    classifier = KerasClassifier((0, 1), model)\n",
    "\n",
    "    # load data set\n",
    "    pf = np.load(dataset_filename)\n",
    "\n",
    "    x = pf['x_test']\n",
    "    y = pf['y_test']\n",
    "\n",
    "    # pre-process numpy array\n",
    "\n",
    "    x = np.expand_dims(x, axis=3)\n",
    "    x = x.astype('float32') / 255\n",
    "\n",
    "    y = np_utils.to_categorical(y, 10)\n",
    "\n",
    "    # craft adversarial samples using FGSM\n",
    "    crafter = FastGradientMethod(classifier, eps=epsilon)\n",
    "    x_samples = crafter.generate(x)\n",
    "\n",
    "    # obtain all metrics (robustness score, perturbation metric, reduction in confidence)\n",
    "    metrics = get_metrics(model, x, x_samples, y)\n",
    "\n",
    "    print(\"metrics : \", metrics)\n",
    "    \n",
    "    report_file = os.path.join(os.environ[\"RESULT_DIR\"], \"report.txt\")\n",
    "\n",
    "    with open(report_file, \"w\") as report:\n",
    "        report.write(json.dumps(metrics))\n",
    "    \n",
    "    adv_samples_file = os.path.join(os.environ[\"RESULT_DIR\"], 'adv_samples')\n",
    "    print(\"adversarial samples saved to : \", adv_samples_file)\n",
    "    np.savez(adv_samples_file, x_original=x, x_adversarial=x_samples, y=y)\n",
    "\n",
    "\n",
    "if __name__ == \"__main__\":\n",
    "    main(sys.argv)"
   ]
  },
  {
   "cell_type": "markdown",
   "metadata": {},
   "source": [
    "Create a zip archive to package the training script `robustness_check.py`"
   ]
  },
  {
   "cell_type": "code",
   "execution_count": 38,
   "metadata": {
    "scrolled": true
   },
   "outputs": [
    {
     "name": "stdout",
     "output_type": "stream",
     "text": [
      "  adding: robustness_check.py (deflated 67%)\r\n"
     ]
    }
   ],
   "source": [
    "zipfile.ZipFile(archive_filename, mode='w').write(script_filename)"
   ]
  },
  {
   "cell_type": "markdown",
   "metadata": {},
   "source": [
    "### Prepare Model Definition Metadata. \n",
    "\n",
    "The training command now points to `robustness_check.py` and four arguments are passed to the script:\n",
    "\n",
    "1. data (`mnist.npz`)\n",
    "2. networkdefinition (`keras_original_model.json`)\n",
    "3. weights (`keras_original_model.hdf5`)\n",
    "4. epsilon (`0.2` or `0.1`)"
   ]
  },
  {
   "cell_type": "code",
   "execution_count": 39,
   "metadata": {},
   "outputs": [],
   "source": [
    "training_command = \"\\\n",
    "pip3 install keras; \\\n",
    "pip3 install https://github.com/IBM/adversarial-robustness-toolbox/zipball/master; \\\n",
    "python3 robustness_check.py \\\n",
    "  --epsilon 0.2 \\\n",
    "  --data ${DATA_DIR}/mnist.npz \\\n",
    "  --networkdefinition ${DATA_DIR}/keras_original_model.json \\\n",
    "  --weights ${DATA_DIR}/keras_original_model.hdf5\"\n",
    "\n",
    "manifest = {\n",
    "  \"name\": \"art_robustness_check\",\n",
    "  \"description\": \"Generates adversarial samples to check robustness using FGM\",\n",
    "  \"version\": \"1.0\",\n",
    "  \"gpus\": 0,\n",
    "  \"cpus\": 2,\n",
    "  \"memory\": \"2Gb\",\n",
    "  \"data_stores\": [\n",
    "    {\n",
    "      \"id\": \"sl-internal-os\",\n",
    "      \"type\": \"s3_datastore\",\n",
    "      \"training_data\": {\n",
    "        \"container\": robustnesscheck_data_bucket\n",
    "      },\n",
    "      \"training_results\": {\n",
    "        \"container\": robustnesscheck_result_bucket\n",
    "      },\n",
    "      \"connection\": {\n",
    "        \"type\": \"s3_datastore\",\n",
    "        \"auth_url\":  user_data[\"cos_service_endpoint\"],\n",
    "        \"user_name\": user_data[\"cos_hmac_access_key_id\"],\n",
    "        \"password\":  user_data[\"cos_hmac_secret_access_key\"]\n",
    "      }\n",
    "    }\n",
    "  ],\n",
    "  \"framework\": {\n",
    "    \"name\": \"tensorflow\",\n",
    "    \"version\": \"1.5.0-py3\",\n",
    "    \"command\": training_command\n",
    "  },\n",
    "  \"evaluation_metrics\": {\n",
    "    \"type\": \"tensorboard\",\n",
    "    \"in\": \"$JOB_STATE_DIR/logs/tb\"\n",
    "  }\n",
    "}\n",
    "\n",
    "yaml.dump(manifest, open(\"manifest.yml\", \"w\"), default_flow_style=False)"
   ]
  },
  {
   "cell_type": "markdown",
   "metadata": {},
   "source": [
    "Now start the training job with FfDL"
   ]
  },
  {
   "cell_type": "code",
   "execution_count": 40,
   "metadata": {},
   "outputs": [
    {
     "data": {
      "text/plain": [
       "[\"Deploying model with manifest 'manifest.yml' and model file 'model.zip'...\",\n",
       " 'Model ID: training-YHWQNQSmg',\n",
       " 'OK']"
      ]
     },
     "execution_count": 40,
     "metadata": {},
     "output_type": "execute_result"
    }
   ],
   "source": [
    "out = !{ffdl} train \"manifest.yml\" \"model.zip\"\n",
    "out"
   ]
  },
  {
   "cell_type": "code",
   "execution_count": 41,
   "metadata": {},
   "outputs": [
    {
     "name": "stdout",
     "output_type": "stream",
     "text": [
      "Getting model training logs for '\u001b[1;36mtraining-YHWQNQSmg\u001b[0m'...\n",
      "Status: PENDING\n",
      "Status: Not Started\n",
      "Training with training/test data at:\n",
      "  DATA_DIR: /job/robustnesscheck-data-9b9e2782-4b17-4930-b9a4-bbe4862dc6ca\n",
      "  MODEL_DIR: /job/model-code\n",
      "  TRAINING_JOB: \n",
      "  TRAINING_COMMAND: pip3 install keras; pip3 install https://github.com/IBM/adversarial-robustness-toolbox/zipball/master; python3 robustness_check.py   --epsilon 0.2   --data ${DATA_DIR}/mnist.npz   --networkdefinition ${DATA_DIR}/keras_original_model.json   --weights ${DATA_DIR}/keras_original_model.hdf5\n",
      "Storing trained model at:\n",
      "  RESULT_DIR: /job/robustnesscheck-results-9b9e2782-4b17-4930-b9a4-bbe4862dc6ca\n",
      "Contents of $MODEL_DIR\n",
      "total 16\n",
      "drwxrwxrwx 2 6342627 root 4096 Jun 11 04:09 .\n",
      "drwxrwxrwx 6 root    root 4096 Jun 11 04:10 ..\n",
      "-rwxrwxrwx 1 6342627 root 4442 Jun 10 21:09 robustness_check.py\n",
      "Contents of $DATA_DIR\n",
      "total 25332\n",
      "drwxr-xr-x 2 6342627 root     4096 Jun 11 04:09 .\n",
      "drwxrwxrwx 6 root    root     4096 Jun 11 04:10 ..\n",
      "-rw-r--r-- 1 6342627 root 14430768 Jun 11 04:08 keras_original_model.hdf5\n",
      "-rw-r--r-- 1 6342627 root     2813 Jun 11 04:09 keras_original_model.json\n",
      "-rw-r--r-- 1 6342627 root 11490434 Jun 11 04:08 mnist.npz\n",
      "DATA_DIR=/job/robustnesscheck-data-9b9e2782-4b17-4930-b9a4-bbe4862dc6ca\n",
      "ELASTICSEARCH_PORT=tcp://172.21.40.112:9200\n",
      "ELASTICSEARCH_PORT_9200_TCP=tcp://172.21.40.112:9200\n",
      "ELASTICSEARCH_PORT_9200_TCP_ADDR=172.21.40.112\n",
      "ELASTICSEARCH_PORT_9200_TCP_PORT=9200\n",
      "ELASTICSEARCH_PORT_9200_TCP_PROTO=tcp\n",
      "ELASTICSEARCH_SERVICE_HOST=172.21.40.112\n",
      "ELASTICSEARCH_SERVICE_PORT=9200\n",
      "ELASTICSEARCH_SERVICE_PORT_HTTP=9200\n",
      "FFDL_LCM_PORT=tcp://172.21.112.20:80\n",
      "FFDL_LCM_PORT_80_TCP=tcp://172.21.112.20:80\n",
      "FFDL_LCM_PORT_80_TCP_ADDR=172.21.112.20\n",
      "FFDL_LCM_PORT_80_TCP_PORT=80\n",
      "FFDL_LCM_PORT_80_TCP_PROTO=tcp\n",
      "FFDL_LCM_SERVICE_HOST=172.21.112.20\n",
      "FFDL_LCM_SERVICE_PORT=80\n",
      "FFDL_LCM_SERVICE_PORT_GRPC=80\n",
      "FFDL_RESTAPI_PORT=tcp://172.21.130.217:80\n",
      "FFDL_RESTAPI_PORT_80_TCP=tcp://172.21.130.217:80\n",
      "FFDL_RESTAPI_PORT_80_TCP_ADDR=172.21.130.217\n",
      "FFDL_RESTAPI_PORT_80_TCP_PORT=80\n",
      "FFDL_RESTAPI_PORT_80_TCP_PROTO=tcp\n",
      "FFDL_RESTAPI_SERVICE_HOST=172.21.130.217\n",
      "FFDL_RESTAPI_SERVICE_PORT=80\n",
      "FFDL_RESTAPI_SERVICE_PORT_FFDL=80\n",
      "FFDL_TRAINER_PORT=tcp://172.21.226.67:80\n",
      "FFDL_TRAINER_PORT_80_TCP=tcp://172.21.226.67:80\n",
      "FFDL_TRAINER_PORT_80_TCP_ADDR=172.21.226.67\n",
      "FFDL_TRAINER_PORT_80_TCP_PORT=80\n",
      "FFDL_TRAINER_PORT_80_TCP_PROTO=tcp\n",
      "FFDL_TRAINER_SERVICE_HOST=172.21.226.67\n",
      "FFDL_TRAINER_SERVICE_PORT=80\n",
      "FFDL_TRAINER_SERVICE_PORT_GRPC=80\n",
      "FFDL_TRAININGDATA_PORT=tcp://172.21.106.158:80\n",
      "FFDL_TRAININGDATA_PORT_80_TCP=tcp://172.21.106.158:80\n",
      "FFDL_TRAININGDATA_PORT_80_TCP_ADDR=172.21.106.158\n",
      "FFDL_TRAININGDATA_PORT_80_TCP_PORT=80\n",
      "FFDL_TRAININGDATA_PORT_80_TCP_PROTO=tcp\n",
      "FFDL_TRAININGDATA_SERVICE_HOST=172.21.106.158\n",
      "FFDL_TRAININGDATA_SERVICE_PORT=80\n",
      "FFDL_TRAININGDATA_SERVICE_PORT_GRPC=80\n",
      "FFDL_UI_PORT=tcp://172.21.201.22:80\n",
      "FFDL_UI_PORT_80_TCP=tcp://172.21.201.22:80\n",
      "FFDL_UI_PORT_80_TCP_ADDR=172.21.201.22\n",
      "FFDL_UI_PORT_80_TCP_PORT=80\n",
      "FFDL_UI_PORT_80_TCP_PROTO=tcp\n",
      "FFDL_UI_SERVICE_HOST=172.21.201.22\n",
      "FFDL_UI_SERVICE_PORT=80\n",
      "FFDL_UI_SERVICE_PORT_HTTP=80\n",
      "GPU_COUNT=0.000000\n",
      "HOME=/root\n",
      "JOB_STATE_DIR=/job\n",
      "LEARNER_ID=1\n",
      "LOG_DIR=/job/logs\n",
      "MODEL_DIR=/job/model-code\n",
      "OLDPWD=/notebooks\n",
      "PATH=/usr/local/bin/:/usr/local/sbin:/usr/local/bin:/usr/sbin:/usr/bin:/sbin:/bin\n",
      "PROMETHEUS_PORT=tcp://172.21.53.216:9090\n",
      "PROMETHEUS_PORT_9090_TCP=tcp://172.21.53.216:9090\n",
      "PROMETHEUS_PORT_9090_TCP_ADDR=172.21.53.216\n",
      "PROMETHEUS_PORT_9090_TCP_PORT=9090\n",
      "PROMETHEUS_PORT_9090_TCP_PROTO=tcp\n",
      "PROMETHEUS_SERVICE_HOST=172.21.53.216\n",
      "PROMETHEUS_SERVICE_PORT=9090\n",
      "PROMETHEUS_SERVICE_PORT_PROMETHEUS=9090\n",
      "PWD=/job/model-code\n",
      "PYTHONPATH=:/job/model-code\n",
      "RESULT_DIR=/job/robustnesscheck-results-9b9e2782-4b17-4930-b9a4-bbe4862dc6ca\n",
      "S3_PORT=tcp://172.21.95.18:80\n",
      "S3_PORT_80_TCP=tcp://172.21.95.18:80\n",
      "S3_PORT_80_TCP_ADDR=172.21.95.18\n",
      "S3_PORT_80_TCP_PORT=80\n",
      "S3_PORT_80_TCP_PROTO=tcp\n",
      "S3_SERVICE_HOST=172.21.95.18\n",
      "S3_SERVICE_PORT=80\n",
      "SHLVL=3\n",
      "TRAINING_COMMAND=pip3 install keras; pip3 install https://github.com/IBM/adversarial-robustness-toolbox/zipball/master; python3 robustness_check.py   --epsilon 0.2   --data ${DATA_DIR}/mnist.npz   --networkdefinition ${DATA_DIR}/keras_original_model.json   --weights ${DATA_DIR}/keras_original_model.hdf5\n",
      "TRAINING_ID=training-YHWQNQSmg\n",
      "_=/usr/bin/env\n",
      "Mon Jun 11 04:10:02 UTC 2018: Running training job\n",
      "Collecting keras\n",
      "  Downloading https://files.pythonhosted.org/packages/68/12/4cabc5c01451eb3b413d19ea151f36e33026fc0efb932bf51bcaf54acbf5/Keras-2.2.0-py2.py3-none-any.whl (300kB)\n",
      "Requirement already satisfied: numpy>=1.9.1 in /usr/local/lib/python3.5/dist-packages (from keras)\n",
      "Requirement already satisfied: six>=1.9.0 in /usr/local/lib/python3.5/dist-packages (from keras)\n",
      "Collecting keras-preprocessing==1.0.1 (from keras)\n",
      "  Downloading https://files.pythonhosted.org/packages/f8/33/275506afe1d96b221f66f95adba94d1b73f6b6087cfb6132a5655b6fe338/Keras_Preprocessing-1.0.1-py2.py3-none-any.whl\n",
      "Collecting pyyaml (from keras)\n",
      "  Downloading https://files.pythonhosted.org/packages/4a/85/db5a2df477072b2902b0eb892feb37d88ac635d36245a72a6a69b23b383a/PyYAML-3.12.tar.gz (253kB)\n",
      "Collecting keras-applications==1.0.2 (from keras)\n",
      "  Downloading https://files.pythonhosted.org/packages/e2/60/c557075e586e968d7a9c314aa38c236b37cb3ee6b37e8d57152b1a5e0b47/Keras_Applications-1.0.2-py2.py3-none-any.whl (43kB)\n",
      "Requirement already satisfied: scipy>=0.14 in /usr/local/lib/python3.5/dist-packages (from keras)\n",
      "Requirement already satisfied: h5py in /usr/local/lib/python3.5/dist-packages (from keras)\n",
      "Building wheels for collected packages: pyyaml\n",
      "  Running setup.py bdist_wheel for pyyaml: started\n",
      "  Running setup.py bdist_wheel for pyyaml: finished with status 'done'\n",
      "  Stored in directory: /root/.cache/pip/wheels/03/05/65/bdc14f2c6e09e82ae3e0f13d021e1b6b2481437ea2f207df3f\n",
      "Successfully built pyyaml\n",
      "Installing collected packages: keras-preprocessing, pyyaml, keras-applications, keras\n",
      "Successfully installed keras-2.2.0 keras-applications-1.0.2 keras-preprocessing-1.0.1 pyyaml-3.12\n",
      "You are using pip version 9.0.1, however version 10.0.1 is available.\n",
      "You should consider upgrading via the 'pip install --upgrade pip' command.\n",
      "Collecting https://github.com/IBM/adversarial-robustness-toolbox/zipball/master\n",
      "  Downloading https://github.com/IBM/adversarial-robustness-toolbox/zipball/master\n",
      "Requirement already satisfied: h5py in /usr/local/lib/python3.5/dist-packages (from adversarial-robustness-toolbox==0.1)\n",
      "Requirement already satisfied: Keras in /usr/local/lib/python3.5/dist-packages (from adversarial-robustness-toolbox==0.1)\n",
      "Requirement already satisfied: scipy in /usr/local/lib/python3.5/dist-packages (from adversarial-robustness-toolbox==0.1)\n",
      "Requirement already satisfied: matplotlib in /usr/local/lib/python3.5/dist-packages (from adversarial-robustness-toolbox==0.1)\n",
      "Requirement already satisfied: setuptools in /usr/local/lib/python3.5/dist-packages (from adversarial-robustness-toolbox==0.1)\n",
      "Requirement already satisfied: six in /usr/local/lib/python3.5/dist-packages (from h5py->adversarial-robustness-toolbox==0.1)\n",
      "Requirement already satisfied: numpy>=1.7 in /usr/local/lib/python3.5/dist-packages (from h5py->adversarial-robustness-toolbox==0.1)\n",
      "Requirement already satisfied: keras-preprocessing==1.0.1 in /usr/local/lib/python3.5/dist-packages (from Keras->adversarial-robustness-toolbox==0.1)\n",
      "Requirement already satisfied: keras-applications==1.0.2 in /usr/local/lib/python3.5/dist-packages (from Keras->adversarial-robustness-toolbox==0.1)\n",
      "Requirement already satisfied: pyyaml in /usr/local/lib/python3.5/dist-packages (from Keras->adversarial-robustness-toolbox==0.1)\n",
      "Requirement already satisfied: pytz in /usr/local/lib/python3.5/dist-packages (from matplotlib->adversarial-robustness-toolbox==0.1)\n",
      "Requirement already satisfied: cycler>=0.10 in /usr/local/lib/python3.5/dist-packages (from matplotlib->adversarial-robustness-toolbox==0.1)\n",
      "Requirement already satisfied: python-dateutil>=2.1 in /usr/local/lib/python3.5/dist-packages (from matplotlib->adversarial-robustness-toolbox==0.1)\n",
      "Requirement already satisfied: pyparsing!=2.0.4,!=2.1.2,!=2.1.6,>=2.0.1 in /usr/local/lib/python3.5/dist-packages (from matplotlib->adversarial-robustness-toolbox==0.1)\n",
      "Installing collected packages: adversarial-robustness-toolbox\n",
      "  Running setup.py install for adversarial-robustness-toolbox: started\n"
     ]
    },
    {
     "name": "stdout",
     "output_type": "stream",
     "text": [
      "    Running setup.py install for adversarial-robustness-toolbox: finished with status 'done'\n",
      "Successfully installed adversarial-robustness-toolbox-0.1\n",
      "You are using pip version 9.0.1, however version 10.0.1 is available.\n",
      "You should consider upgrading via the 'pip install --upgrade pip' command.\n",
      "2018-06-11 04:10:09.390226: I tensorflow/core/platform/cpu_feature_guard.cc:137] Your CPU supports instructions that this TensorFlow binary was not compiled to use: SSE4.1 SSE4.2 AVX AVX2 FMA\n",
      "/usr/local/lib/python3.5/dist-packages/h5py/__init__.py:36: FutureWarning: Conversion of the second argument of issubdtype from `float` to `np.floating` is deprecated. In future, it will be treated as `np.float64 == np.dtype(float).type`.\n",
      "  from ._conv import register_converters as _register_converters\n",
      "Using TensorFlow backend.\n",
      "--epsilon\n",
      "--data\n",
      "--networkdefinition\n",
      "--weights\n",
      "dataset:  /job/robustnesscheck-data-9b9e2782-4b17-4930-b9a4-bbe4862dc6ca/mnist.npz\n",
      "network definition:  /job/robustnesscheck-data-9b9e2782-4b17-4930-b9a4-bbe4862dc6ca/keras_original_model.json\n",
      "weights:  /job/robustnesscheck-data-9b9e2782-4b17-4930-b9a4-bbe4862dc6ca/keras_original_model.hdf5\n",
      "metrics :  {'reduction in confidence': 29.16172742843628, 'model accuracy on adversarial samples': 41.85, 'model accuracy on test data:': 97.8, 'average perturbation': 47.15782701969147}\n",
      "adversarial samples saved to :  /job/robustnesscheck-results-9b9e2782-4b17-4930-b9a4-bbe4862dc6ca/adv_samples\n",
      "Training process finished. Exit code: 0\n",
      "\n"
     ]
    }
   ],
   "source": [
    "# Monitor the training logs\n",
    "\n",
    "if \"Model ID\" in out[1]:\n",
    "    model_id = out.fields()[1][-1]\n",
    "    !{ffdl} logs --follow {model_id}"
   ]
  },
  {
   "cell_type": "markdown",
   "metadata": {},
   "source": [
    "The above training job will create a report (`report.txt`). The file is available in COS (bucket = `robustnesscheck_result_bucket`) "
   ]
  },
  {
   "cell_type": "code",
   "execution_count": 42,
   "metadata": {},
   "outputs": [
    {
     "name": "stdout",
     "output_type": "stream",
     "text": [
      "{\n",
      "    \"model accuracy on adversarial samples\": 41.85,\n",
      "    \"model accuracy on test data:\": 97.8,\n",
      "    \"average perturbation\": 47.15782701969147,\n",
      "    \"reduction in confidence\": 29.16172742843628\n",
      "}\n"
     ]
    }
   ],
   "source": [
    "report_file = os.path.join(model_id, \"report.txt\")\n",
    "bucket_obj = cos.Bucket(robustnesscheck_result_bucket)\n",
    "bucket_obj.download_file(report_file, \"report.txt\")\n",
    "\n",
    "with open('report.txt', \"r\") as report:\n",
    "    result = json.load(report)\n",
    "    \n",
    "print(json.dumps(result, indent=4, sort_keys=False))"
   ]
  },
  {
   "cell_type": "markdown",
   "metadata": {},
   "source": [
    "Download the adversarial samples that were stored to COS using the below command"
   ]
  },
  {
   "cell_type": "code",
   "execution_count": 43,
   "metadata": {
    "scrolled": true
   },
   "outputs": [
    {
     "name": "stdout",
     "output_type": "stream",
     "text": [
      "Downloading robustnesscheck-results-9b9e2782-4b17-4930-b9a4-bbe4862dc6ca/training-YHWQNQSmg/adv_samples.npz ...\n",
      "Downloaded: adv_samples_from_cos.npz\n"
     ]
    }
   ],
   "source": [
    "samples_file = os.path.join(model_id, \"adv_samples.npz\")\n",
    "print('Downloading {}/{} ...'.format(robustnesscheck_result_bucket, samples_file))\n",
    "bucket_obj = cos.Bucket(robustnesscheck_result_bucket)\n",
    "bucket_obj.download_file(samples_file, \"adv_samples_from_cos.npz\")\n",
    "print('Downloaded:', \"adv_samples_from_cos.npz\")"
   ]
  },
  {
   "cell_type": "markdown",
   "metadata": {},
   "source": [
    "Compare original with adversarial images and test model predictions"
   ]
  },
  {
   "cell_type": "code",
   "execution_count": 44,
   "metadata": {},
   "outputs": [
    {
     "data": {
      "image/png": "[encoded data removed]",
      "text/plain": [
       "<Figure size 1080x216 with 20 Axes>"
      ]
     },
     "metadata": {},
     "output_type": "display_data"
    }
   ],
   "source": [
    "x_adv_samples = np.load(\"adv_samples_from_cos.npz\")\n",
    "x_original    = x_adv_samples[\"x_original\"]\n",
    "x_adversarial = x_adv_samples[\"x_adversarial\"]\n",
    "y             = x_adv_samples[\"y\"]\n",
    "\n",
    "x_orig = (x_original    * 255).astype('int')[:, :, :, 0]\n",
    "x_adv  = (x_adversarial * 255).astype('int')[:, :, :, 0]\n",
    "\n",
    "y_pred_orig = model.predict(x_original,    verbose=0)\n",
    "y_pred_adv  = model.predict(x_adversarial, verbose=0)\n",
    "\n",
    "fig    = plt.figure(figsize=(15, 3))\n",
    "cols   = 10\n",
    "rows   = 2\n",
    "images = list(x_orig[:cols])      + list(x_adv[:cols])\n",
    "preds  = list(y_pred_orig[:cols]) + list(y_pred_adv[:cols])\n",
    "labels = list(y[:cols])           + list(y[:cols])\n",
    "\n",
    "for i in range(0, len(images)):\n",
    "    ax = fig.add_subplot(rows, cols, i+1)\n",
    "    y_pred = np.argmax(preds[i])\n",
    "    y_orig = np.argmax(labels[i])\n",
    "    ax.set_xlabel(\"Predict: %s\" % y_pred,\n",
    "                  color = \"green\" if y_pred == y_orig else \"red\")\n",
    "    ax.tick_params(axis='both', which='both',\n",
    "                   bottom=False, top=False,\n",
    "                   right=False, left=False,\n",
    "                   labelbottom=False, labelleft=False)\n",
    "    plt.imshow(images[i], cmap='gray')\n",
    "\n",
    "plt.show()"
   ]
  },
  {
   "cell_type": "markdown",
   "metadata": {},
   "source": [
    "## 5. Summary and Next Steps <a id=\"summary\"></a>\n",
    "\n",
    "This notebook only looked at one adversarial robustness technique (FGM). The *ART* library contains many more attacks, metrics and defenses to help you understand and improve your model's robustness. You can use this notebook as a template to experiment with all aspects of *ART*. Find more state-of-the-art methods for attacking and defending classifiers here:\n",
    "\n",
    "https://github.com/IBM/adversarial-robustness-toolbox"
   ]
  },
  {
   "cell_type": "markdown",
   "metadata": {},
   "source": [
    "## Acknowledgements\n",
    "\n",
    "Special thanks to [Anupama-Murthi](https://github.ibm.com/Anupama-Murthi) and [Vijay Arya](https://github.ibm.com/vijay-arya) who created the original notebook which we modified here to showcase how to use *ART* with *FfDL*. If you would like to try *[Watson Machine Learning (WML) Service](https://console.bluemix.net/catalog/services/machine-learning)* with *ART* check out Anupama and Vijay's notebook here:\n",
    "\n",
    "[https://github.ibm.com/robust-dlaas/ART-in-WML/Use ART to check robustness of deep learning models.ipynb](https://github.ibm.com/robust-dlaas/ART-in-WML/blob/master/Use%20ART%20to%20check%20robustness%20of%20deep%20learning%20models.ipynb)"
   ]
  },
  {
   "cell_type": "markdown",
   "metadata": {},
   "source": [
    "Copyright © 2017, 2018 IBM. This notebook and its source code are released under the terms of the MIT License."
   ]
  }
 ],
 "metadata": {
  "anaconda-cloud": {},
  "kernelspec": {
   "display_name": "Python 3",
   "language": "python",
   "name": "python3"
  },
  "language_info": {
   "codemirror_mode": {
    "name": "ipython",
    "version": 3
   },
   "file_extension": ".py",
   "mimetype": "text/x-python",
   "name": "python",
   "nbconvert_exporter": "python",
   "pygments_lexer": "ipython3",
   "version": "3.6.5"
  }
 },
 "nbformat": 4,
 "nbformat_minor": 1
}
